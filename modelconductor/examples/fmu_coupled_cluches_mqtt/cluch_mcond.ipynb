{
 "cells": [
  {
   "cell_type": "markdown",
   "metadata": {},
   "source": [
    "# ModelConductor demo\n",
    "\n",
    "This short tutorial will cover the basic workflow of conducting One-To-One experiments with ModelConductor. The experiment has two distinct parts, i.e. \n",
    "\n",
    "1) The process of writing high-frequency process data to an SQLite database is simulated with a mockup function and\n",
    "\n",
    "2) The database is concurrently polled and the latest database streamed to a dynamical simulation model, distributed as an Functional Mockup Unit (FMU). The model's output is saved to a csv file\n",
    "\n",
    "The FMU Model is implemented originally in MapleSim and taken from https://github.com/modelica/fmi-cross-check/tree/master/fmus/2.0/cs/win64/MapleSim/2018/CoupledClutches\n",
    "\n",
    "The input file to the FMU has been trimmed down to first 1.4 seconds (approx. 1400 samples)\n",
    "\n",
    "For a more detail description of the various ModelConductor components, read the code or see the original publication in [1]\n",
    "\n",
    "[1] Aho, P. 2019. An Open Source Digital Twin Framework. Master's Thesis. Tampere University"
   ]
  },
  {
   "cell_type": "markdown",
   "metadata": {},
   "source": [
    "# Preliminaries\n",
    "\n",
    "Let us examine what we have, i.e., the FMU model and input data. "
   ]
  },
  {
   "cell_type": "code",
   "execution_count": 1,
   "metadata": {},
   "outputs": [],
   "source": [
    "from fmpy import dump"
   ]
  },
  {
   "cell_type": "code",
   "execution_count": 2,
   "metadata": {},
   "outputs": [
    {
     "name": "stdout",
     "output_type": "stream",
     "text": [
      "\n",
      "Model Info\n",
      "\n",
      "  FMI Version       2.0\n",
      "  FMI Type          Co-Simulation\n",
      "  Model Name        CoupledClutches\n",
      "  Description       Model CoupledClutches\n",
      "  Platforms         win64\n",
      "  Continuous States 8\n",
      "  Event Indicators  25\n",
      "  Variables         148\n",
      "  Generation Tool   MapleSim (1357016/1357197/1357197)\n",
      "  Generation Date   2018-10-25T13:27:07Z\n",
      "\n",
      "Default Experiment\n",
      "\n",
      "  Stop Time         1.5\n",
      "  Step Size         0.01\n",
      "\n",
      "Variables (input, output)\n",
      "\n",
      "Name                Causality              Start Value  Unit     Description\n",
      "inputs              input      0.00000000000000000e+00           RI1\n",
      "outputs[1]          output     1.00000000000000000e+01  rad/s    J1.w\n",
      "outputs[2]          output     0.00000000000000000e+00  rad/s    J2.w\n",
      "outputs[3]          output     0.00000000000000000e+00  rad/s    J3.w\n",
      "outputs[4]          output     0.00000000000000000e+00  rad/s    J4.w\n"
     ]
    }
   ],
   "source": [
    "dump('CoupledClutches.fmu')"
   ]
  },
  {
   "cell_type": "markdown",
   "metadata": {},
   "source": [
    "At each timestep, the model accepts one input and produced an output vector of four elements. The expected step size is 0.01 seconds.\n",
    "\n",
    "Example input data is contained in a csv file:  "
   ]
  },
  {
   "cell_type": "code",
   "execution_count": 3,
   "metadata": {},
   "outputs": [],
   "source": [
    "# read in the raw data\n",
    "import pandas as pd\n",
    "data = pd.read_csv(\"CoupledClutches_in_sh.csv\")"
   ]
  },
  {
   "cell_type": "code",
   "execution_count": 4,
   "metadata": {},
   "outputs": [
    {
     "data": {
      "text/html": [
       "<div>\n",
       "<style scoped>\n",
       "    .dataframe tbody tr th:only-of-type {\n",
       "        vertical-align: middle;\n",
       "    }\n",
       "\n",
       "    .dataframe tbody tr th {\n",
       "        vertical-align: top;\n",
       "    }\n",
       "\n",
       "    .dataframe thead th {\n",
       "        text-align: right;\n",
       "    }\n",
       "</style>\n",
       "<table border=\"1\" class=\"dataframe\">\n",
       "  <thead>\n",
       "    <tr style=\"text-align: right;\">\n",
       "      <th></th>\n",
       "      <th>time</th>\n",
       "      <th>inputs</th>\n",
       "    </tr>\n",
       "  </thead>\n",
       "  <tbody>\n",
       "    <tr>\n",
       "      <td>0</td>\n",
       "      <td>0.000</td>\n",
       "      <td>0</td>\n",
       "    </tr>\n",
       "    <tr>\n",
       "      <td>1</td>\n",
       "      <td>0.001</td>\n",
       "      <td>0</td>\n",
       "    </tr>\n",
       "    <tr>\n",
       "      <td>2</td>\n",
       "      <td>0.002</td>\n",
       "      <td>0</td>\n",
       "    </tr>\n",
       "    <tr>\n",
       "      <td>3</td>\n",
       "      <td>0.003</td>\n",
       "      <td>0</td>\n",
       "    </tr>\n",
       "    <tr>\n",
       "      <td>4</td>\n",
       "      <td>0.004</td>\n",
       "      <td>0</td>\n",
       "    </tr>\n",
       "  </tbody>\n",
       "</table>\n",
       "</div>"
      ],
      "text/plain": [
       "    time  inputs\n",
       "0  0.000       0\n",
       "1  0.001       0\n",
       "2  0.002       0\n",
       "3  0.003       0\n",
       "4  0.004       0"
      ]
     },
     "execution_count": 4,
     "metadata": {},
     "output_type": "execute_result"
    }
   ],
   "source": [
    "data.head()"
   ]
  },
  {
   "cell_type": "code",
   "execution_count": 5,
   "metadata": {},
   "outputs": [
    {
     "data": {
      "text/plain": [
       "1421"
      ]
     },
     "execution_count": 5,
     "metadata": {},
     "output_type": "execute_result"
    }
   ],
   "source": [
    "len(data)"
   ]
  },
  {
   "cell_type": "code",
   "execution_count": 6,
   "metadata": {},
   "outputs": [],
   "source": [
    "from matplotlib import pyplot as plt"
   ]
  },
  {
   "cell_type": "code",
   "execution_count": 7,
   "metadata": {},
   "outputs": [
    {
     "data": {
      "text/plain": [
       "[<matplotlib.lines.Line2D at 0x1232d0cb4c8>]"
      ]
     },
     "execution_count": 7,
     "metadata": {},
     "output_type": "execute_result"
    },
    {
     "data": {
      "image/png": "[encoded data removed]",
      "text/plain": [
       "<Figure size 432x288 with 1 Axes>"
      ]
     },
     "metadata": {
      "needs_background": "light"
     },
     "output_type": "display_data"
    }
   ],
   "source": [
    "plt.plot(data[\"time\"], data[\"inputs\"])"
   ]
  },
  {
   "cell_type": "markdown",
   "metadata": {},
   "source": [
    "The input data is essentially a stair function (Clutch engaged / disengaged?)\n",
    "\n",
    "Let's check the mean time step"
   ]
  },
  {
   "cell_type": "code",
   "execution_count": 8,
   "metadata": {},
   "outputs": [
    {
     "data": {
      "text/plain": [
       "0.0009859154761677057"
      ]
     },
     "execution_count": 8,
     "metadata": {},
     "output_type": "execute_result"
    }
   ],
   "source": [
    "data[\"time\"].diff().mean()"
   ]
  },
  {
   "cell_type": "markdown",
   "metadata": {},
   "source": [
    "The mean step should be in good accordance with what the model expects"
   ]
  },
  {
   "cell_type": "markdown",
   "metadata": {},
   "source": [
    "## Receive loop\n",
    "\n",
    "Using the MQTT experiment class, a broker will be started and one subscriber will be subscribing to the sample messages arriving from the measurements publisher."
   ]
  },
  {
   "cell_type": "code",
   "execution_count": null,
   "metadata": {},
   "outputs": [],
   "source": []
  },
  {
   "cell_type": "markdown",
   "metadata": {},
   "source": [
    "## Model loop\n",
    "\n",
    "The FMU model is wrapped with a corresponding ModelConductor component, thereafter operating on a 'pull' manner. Whenever a previously unseen datapoint is identified as a result of database poll operation, it is relayed to the corresponding ModelHandler component  "
   ]
  },
  {
   "cell_type": "code",
   "execution_count": 9,
   "metadata": {},
   "outputs": [],
   "source": [
    "from modelconductor.modelhandler import FMUModelHandler"
   ]
  },
  {
   "cell_type": "markdown",
   "metadata": {},
   "source": [
    "Within ModelConductor, all data that is to be exchanged from one data source / data consumer to another, is asserted to exists in one of two possible formats: \n",
    "\n",
    "i) A Measurement object that denotes a timestamped data structure that is received from a physical asset, best understood as a snapshot of the asset’s state at a given time or\n",
    "\n",
    "ii) a ModelResponse object that similarly denotes a timestamped data structure that is received from a digital asset, a snapshot of the model’s virtual state at a given time \n",
    "\n",
    "A variable (a key) may, but is not required to belong to one or more of the following categories:\n",
    "\n",
    "1) Input keys: The subset of keys in Measurement object corresponding to the keys that are expected as  inputs by the relevant ModelHandler\n",
    "\n",
    "2) Target keys: The keys that are expected to be output from a ModelHandler instance onto a ModelResponse object\n",
    "\n",
    "3) Control keys: A subset of keys in Measurement that is not intended to be used as an input to a ModelHandler, but rather as a validation variable against the ModelHandler output\n",
    "\n",
    "4) Timestamp key: A key denoting the instant when the relevant Measurement or ModelResponce instance was created.\n"
   ]
  },
  {
   "cell_type": "code",
   "execution_count": 10,
   "metadata": {},
   "outputs": [],
   "source": [
    "target_keys = [\"outputs[1]\",\n",
    "               \"outputs[2]\",\n",
    "               \"outputs[3]\",\n",
    "               \"outputs[4]\"]\n",
    "input_keys = [\"inputs\"]\n",
    "control_keys = [\"time\"]\n",
    "timestamp_key = \"time\""
   ]
  },
  {
   "cell_type": "markdown",
   "metadata": {},
   "source": [
    "Now the ModelHandler object can be instantiated:"
   ]
  },
  {
   "cell_type": "code",
   "execution_count": 11,
   "metadata": {},
   "outputs": [],
   "source": [
    "model=FMUModelHandler(\n",
    "    fmu_path='CoupledClutches.fmu',\n",
    "    start_time=0,\n",
    "    stop_time=1.5,\n",
    "    step_size=0.01,\n",
    "    target_keys=target_keys,\n",
    "    input_keys=input_keys,\n",
    "    control_keys=control_keys,\n",
    "    timestamp_key=timestamp_key)"
   ]
  },
  {
   "cell_type": "markdown",
   "metadata": {},
   "source": [
    "## The experiment\n",
    "The experiment object will use the model inside its subscriber. The broker will start for listening to new measurements from publishers and the subscriber will be listening for new measurements which comes from the broker."
   ]
  },
  {
   "cell_type": "code",
   "execution_count": 12,
   "metadata": {},
   "outputs": [
    {
     "name": "stdout",
     "output_type": "stream",
     "text": [
      "Experiment._run\n",
      "Experiment._run\n"
     ]
    }
   ],
   "source": [
    "import asyncio\n",
    "import nest_asyncio\n",
    "nest_asyncio.apply()\n",
    "\n",
    "from modelconductor.experiment_mqtt import MqttExperiment"
   ]
  },
  {
   "cell_type": "code",
   "execution_count": 13,
   "metadata": {},
   "outputs": [],
   "source": [
    "ex = MqttExperiment(logging=True)\n",
    "ex.model = model\n",
    "headers = [\"timestamp\"]\n",
    "if ex.model.input_keys:\n",
    "    headers += ex.model.input_keys\n",
    "if ex.model.target_keys:\n",
    "    headers += ex.model.target_keys\n",
    "if ex.model.control_keys:\n",
    "    headers += ex.model.control_keys\n",
    "ex.logger = ex.initiate_logging(headers=headers)"
   ]
  },
  {
   "cell_type": "markdown",
   "metadata": {},
   "source": [
    "## Run\n",
    "Run the receiving loop. When it succeeded starting run the client on another process with this command:\n",
    "```bash\n",
    "python client_mqtt.py\n",
    "```"
   ]
  },
  {
   "cell_type": "code",
   "execution_count": 14,
   "metadata": {},
   "outputs": [
    {
     "name": "stderr",
     "output_type": "stream",
     "text": [
      "[2020-10-22 16:21:22,709] :: INFO - Finished processing state new exit callbacks.\n",
      "[2020-10-22 16:21:22,710] :: INFO - Finished processing state starting enter callbacks.\n",
      "[2020-10-22 16:21:22,711] :: INFO - Listener 'default' bind to 0.0.0.0:1883 (max_connections=-1)\n",
      "[2020-10-22 16:21:22,711] :: INFO - Finished processing state starting exit callbacks.\n",
      "[2020-10-22 16:21:22,711] :: INFO - Finished processing state started enter callbacks.\n"
     ]
    },
    {
     "name": "stdout",
     "output_type": "stream",
     "text": [
      "Experiment._run.wrapper\n"
     ]
    },
    {
     "name": "stderr",
     "output_type": "stream",
     "text": [
      "[2020-10-22 16:21:24,735] :: INFO - Listener 'default': 1 connections acquired\n",
      "[2020-10-22 16:21:24,736] :: INFO - Connection from 127.0.0.1:58147 on listener 'default'\n",
      "[2020-10-22 16:21:24,738] :: INFO - Finished processing state new exit callbacks.\n",
      "[2020-10-22 16:21:24,739] :: INFO - Finished processing state connected enter callbacks.\n",
      "[2020-10-22 16:21:24,740] :: INFO - Finished processing state new exit callbacks.\n",
      "[2020-10-22 16:21:24,741] :: INFO - Finished processing state connected enter callbacks.\n"
     ]
    },
    {
     "name": "stdout",
     "output_type": "stream",
     "text": [
      "0\n",
      "1.5\n",
      "2.0\n"
     ]
    },
    {
     "name": "stderr",
     "output_type": "stream",
     "text": [
      "[2020-10-22 16:21:49,293] :: INFO - Listener 'default': 2 connections acquired\n",
      "[2020-10-22 16:21:49,295] :: INFO - Connection from 127.0.0.1:58157 on listener 'default'\n",
      "[2020-10-22 16:21:49,301] :: INFO - Finished processing state new exit callbacks.\n",
      "[2020-10-22 16:21:49,303] :: INFO - Finished processing state connected enter callbacks.\n"
     ]
    },
    {
     "name": "stdout",
     "output_type": "stream",
     "text": [
      "{'time': 0.0, 'inputs': 0.0, 'TIMING_client_request_timestamp': 1603372909.3101053}\n",
      "result: \n",
      "{'inputs': 0.0, 'outputs[1]': 9.900000031706817, 'outputs[2]': 0.09999996829318347, 'outputs[3]': 0.0, 'outputs[4]': 0.0, 'time': 0.0, 'TIMING_model_response_timestamp': 1603372909.313099}\n",
      "logging to: <_io.TextIOWrapper name='exp_2020-10-22_16-21-22.log' mode='w+' encoding='cp1252'>\n",
      "1\n",
      "2\n",
      "{'time': 0.001, 'inputs': 0.0, 'TIMING_client_request_timestamp': 1603372909.412676}\n",
      "result: \n",
      "{'inputs': 0.0, 'outputs[1]': 9.830908657760922, 'outputs[2]': 0.19999304167657272, 'outputs[3]': 0.0, 'outputs[4]': 0.0, 'time': 0.001, 'TIMING_model_response_timestamp': 1603372909.4174213}\n",
      "logging to: <_io.TextIOWrapper name='exp_2020-10-22_16-21-22.log' mode='w+' encoding='cp1252'>\n",
      "1\n",
      "2\n",
      "{'time': 0.0020000001, 'inputs': 0.0, 'TIMING_client_request_timestamp': 1603372909.5181217}\n",
      "result: \n",
      "{'inputs': 0.0, 'outputs[1]': 9.764790934386207, 'outputs[2]': 0.29998455707581756, 'outputs[3]': 0.0, 'outputs[4]': 0.0, 'time': 0.0020000001, 'TIMING_model_response_timestamp': 1603372909.5246193}\n",
      "logging to: <_io.TextIOWrapper name='exp_2020-10-22_16-21-22.log' mode='w+' encoding='cp1252'>\n",
      "1\n",
      "2\n",
      "{'time': 0.003, 'inputs': 0.0, 'TIMING_client_request_timestamp': 1603372909.623831}\n",
      "result: \n",
      "{'inputs': 0.0, 'outputs[1]': 9.701613590432103, 'outputs[2]': 0.3999743565904872, 'outputs[3]': 0.0, 'outputs[4]': 0.0, 'time': 0.003, 'TIMING_model_response_timestamp': 1603372909.6360269}\n",
      "logging to: <_io.TextIOWrapper name='exp_2020-10-22_16-21-22.log' mode='w+' encoding='cp1252'>\n",
      "1\n",
      "2\n",
      "{'time': 0.0040000002, 'inputs': 0.0, 'TIMING_client_request_timestamp': 1603372909.740735}\n",
      "result: \n",
      "{'inputs': 0.0, 'outputs[1]': 9.64134045376267, 'outputs[2]': 0.49996228232339895, 'outputs[3]': 0.0, 'outputs[4]': 0.0, 'time': 0.0040000002, 'TIMING_model_response_timestamp': 1603372909.7490392}\n",
      "logging to: <_io.TextIOWrapper name='exp_2020-10-22_16-21-22.log' mode='w+' encoding='cp1252'>\n",
      "1\n",
      "2\n",
      "{'time': 0.0049999999, 'inputs': 0.0, 'TIMING_client_request_timestamp': 1603372909.856654}\n",
      "result: \n",
      "{'inputs': 0.0, 'outputs[1]': 9.583932489431726, 'outputs[2]': 0.5999481763793685, 'outputs[3]': 0.0, 'outputs[4]': 0.0, 'time': 0.0049999999, 'TIMING_model_response_timestamp': 1603372909.8572047}\n",
      "logging to: <_io.TextIOWrapper name='exp_2020-10-22_16-21-22.log' mode='w+' encoding='cp1252'>\n",
      "1\n",
      "2\n",
      "{'time': 0.0060000001, 'inputs': 0.0, 'TIMING_client_request_timestamp': 1603372909.9612787}\n",
      "result: \n",
      "{'inputs': 0.0, 'outputs[1]': 9.529347834637038, 'outputs[2]': 0.6999318808680924, 'outputs[3]': 0.0, 'outputs[4]': 0.0, 'time': 0.0060000001, 'TIMING_model_response_timestamp': 1603372909.9672582}\n",
      "logging to: <_io.TextIOWrapper name='exp_2020-10-22_16-21-22.log' mode='w+' encoding='cp1252'>\n",
      "1\n",
      "2\n",
      "{'time': 0.0070000002, 'inputs': 0.0, 'TIMING_client_request_timestamp': 1603372910.0733535}\n",
      "result: \n",
      "{'inputs': 0.0, 'outputs[1]': 9.477541845290066, 'outputs[2]': 0.7999132379005356, 'outputs[3]': 0.0, 'outputs[4]': 0.0, 'time': 0.0070000002, 'TIMING_model_response_timestamp': 1603372910.073866}\n",
      "logging to: <_io.TextIOWrapper name='exp_2020-10-22_16-21-22.log' mode='w+' encoding='cp1252'>\n",
      "1\n",
      "2\n",
      "{'time': 0.0080000004, 'inputs': 0.0, 'TIMING_client_request_timestamp': 1603372910.1792707}\n",
      "result: \n",
      "{'inputs': 0.0, 'outputs[1]': 9.428467135713776, 'outputs[2]': 0.8998920895926833, 'outputs[3]': 0.0, 'outputs[4]': 0.0, 'time': 0.0080000004, 'TIMING_model_response_timestamp': 1603372910.1842513}\n",
      "logging to: <_io.TextIOWrapper name='exp_2020-10-22_16-21-22.log' mode='w+' encoding='cp1252'>\n",
      "1\n",
      "2\n",
      "{'time': 0.0089999996, 'inputs': 0.0, 'TIMING_client_request_timestamp': 1603372910.2909946}\n",
      "result: \n",
      "{'inputs': 0.0, 'outputs[1]': 9.382073627801397, 'outputs[2]': 0.9998682780639763, 'outputs[3]': 0.0, 'outputs[4]': 0.0, 'time': 0.0089999996, 'TIMING_model_response_timestamp': 1603372910.2909946}\n",
      "logging to: <_io.TextIOWrapper name='exp_2020-10-22_16-21-22.log' mode='w+' encoding='cp1252'>\n",
      "1\n",
      "2\n",
      "{'time': 0.0099999998, 'inputs': 0.0, 'TIMING_client_request_timestamp': 1603372910.3970804}\n",
      "result: \n",
      "{'inputs': 0.0, 'outputs[1]': 9.338308597170043, 'outputs[2]': 1.0998416454412034, 'outputs[3]': 0.0, 'outputs[4]': 0.0, 'time': 0.0099999998, 'TIMING_model_response_timestamp': 1603372910.4030585}\n",
      "logging to: <_io.TextIOWrapper name='exp_2020-10-22_16-21-22.log' mode='w+' encoding='cp1252'>\n",
      "1\n",
      "2\n",
      "{'time': 0.0109999999, 'inputs': 0.0, 'TIMING_client_request_timestamp': 1603372910.5065064}\n",
      "result: \n",
      "{'inputs': 0.0, 'outputs[1]': 9.297116733482207, 'outputs[2]': 1.1998120338499663, 'outputs[3]': 0.0, 'outputs[4]': 0.0, 'time': 0.0109999999, 'TIMING_model_response_timestamp': 1603372910.5070684}\n",
      "logging to: <_io.TextIOWrapper name='exp_2020-10-22_16-21-22.log' mode='w+' encoding='cp1252'>\n",
      "1\n",
      "2\n",
      "{'time': 0.0120000001, 'inputs': 0.0, 'TIMING_client_request_timestamp': 1603372910.625035}\n",
      "result: \n",
      "{'inputs': 0.0, 'outputs[1]': 9.258440187025602, 'outputs[2]': 1.2997792854236345, 'outputs[3]': 0.0, 'outputs[4]': 0.0, 'time': 0.0120000001, 'TIMING_model_response_timestamp': 1603372910.6310127}\n",
      "logging to: <_io.TextIOWrapper name='exp_2020-10-22_16-21-22.log' mode='w+' encoding='cp1252'>\n",
      "1\n",
      "2\n",
      "{'time': 0.0130000003, 'inputs': 0.0, 'TIMING_client_request_timestamp': 1603372910.7310731}\n",
      "result: \n",
      "{'inputs': 0.0, 'outputs[1]': 9.222218629366266, 'outputs[2]': 1.3997432422999037, 'outputs[3]': 0.0, 'outputs[4]': 0.0, 'time': 0.0130000003, 'TIMING_model_response_timestamp': 1603372910.737066}\n",
      "logging to: <_io.TextIOWrapper name='exp_2020-10-22_16-21-22.log' mode='w+' encoding='cp1252'>\n",
      "1\n",
      "2\n",
      "{'time': 0.0140000004, 'inputs': 0.0, 'TIMING_client_request_timestamp': 1603372910.836231}\n",
      "result: \n",
      "{'inputs': 0.0, 'outputs[1]': 9.188389312283519, 'outputs[2]': 1.499703746621978, 'outputs[3]': 0.0, 'outputs[4]': 0.0, 'time': 0.0140000004, 'TIMING_model_response_timestamp': 1603372910.8381598}\n",
      "logging to: <_io.TextIOWrapper name='exp_2020-10-22_16-21-22.log' mode='w+' encoding='cp1252'>\n",
      "1\n",
      "2\n",
      "{'time': 0.0149999997, 'inputs': 0.0, 'TIMING_client_request_timestamp': 1603372910.938236}\n",
      "result: \n",
      "{'inputs': 0.0, 'outputs[1]': 9.156887129875532, 'outputs[2]': 1.5996606405388827, 'outputs[3]': 0.0, 'outputs[4]': 0.0, 'time': 0.0149999997, 'TIMING_model_response_timestamp': 1603372910.9489477}\n",
      "logging to: <_io.TextIOWrapper name='exp_2020-10-22_16-21-22.log' mode='w+' encoding='cp1252'>\n",
      "1\n",
      "2\n",
      "{'time': 0.0160000008, 'inputs': 0.0, 'TIMING_client_request_timestamp': 1603372911.0493517}\n",
      "result: \n",
      "{'inputs': 0.0, 'outputs[1]': 9.127644681658552, 'outputs[2]': 1.6996137662080848, 'outputs[3]': 0.0, 'outputs[4]': 0.0, 'time': 0.0160000008, 'TIMING_model_response_timestamp': 1603372911.053309}\n",
      "logging to: <_io.TextIOWrapper name='exp_2020-10-22_16-21-22.log' mode='w+' encoding='cp1252'>\n",
      "1\n",
      "2\n",
      "{'time': 0.0170000009, 'inputs': 0.0, 'TIMING_client_request_timestamp': 1603372911.1532845}\n",
      "result: \n",
      "{'inputs': 0.0, 'outputs[1]': 9.100592346546264, 'outputs[2]': 1.7995629657829675, 'outputs[3]': 0.0, 'outputs[4]': 0.0, 'time': 0.0170000009, 'TIMING_model_response_timestamp': 1603372911.1652515}\n",
      "logging to: <_io.TextIOWrapper name='exp_2020-10-22_16-21-22.log' mode='w+' encoding='cp1252'>\n",
      "1\n",
      "2\n",
      "{'time': 0.0179999992, 'inputs': 0.0, 'TIMING_client_request_timestamp': 1603372911.264186}\n",
      "result: \n",
      "{'inputs': 0.0, 'outputs[1]': 9.075658339728175, 'outputs[2]': 1.8995080814339174, 'outputs[3]': 0.0, 'outputs[4]': 0.0, 'time': 0.0179999992, 'TIMING_model_response_timestamp': 1603372911.2661073}\n",
      "logging to: <_io.TextIOWrapper name='exp_2020-10-22_16-21-22.log' mode='w+' encoding='cp1252'>\n",
      "1\n",
      "2\n",
      "{'time': 0.0189999994, 'inputs': 0.0, 'TIMING_client_request_timestamp': 1603372911.3670735}\n",
      "result: \n",
      "{'inputs': 0.0, 'outputs[1]': 9.05276878849595, 'outputs[2]': 1.9994489553417005, 'outputs[3]': 0.0, 'outputs[4]': 0.0, 'time': 0.0189999994, 'TIMING_model_response_timestamp': 1603372911.3780775}\n",
      "logging to: <_io.TextIOWrapper name='exp_2020-10-22_16-21-22.log' mode='w+' encoding='cp1252'>\n",
      "1\n",
      "2\n",
      "{'time': 0.0199999996, 'inputs': 0.0, 'TIMING_client_request_timestamp': 1603372911.4763029}\n",
      "result: \n",
      "{'inputs': 0.0, 'outputs[1]': 9.031847814241853, 'outputs[2]': 2.099385429678063, 'outputs[3]': 0.0, 'outputs[4]': 0.0, 'time': 0.0199999996, 'TIMING_model_response_timestamp': 1603372911.4902718}\n",
      "logging to: <_io.TextIOWrapper name='exp_2020-10-22_16-21-22.log' mode='w+' encoding='cp1252'>\n",
      "1\n",
      "2\n",
      "{'time': 0.0209999997, 'inputs': 0.0, 'TIMING_client_request_timestamp': 1603372911.5866444}\n",
      "result: \n",
      "{'inputs': 0.0, 'outputs[1]': 9.012817595989171, 'outputs[2]': 2.199317346629608, 'outputs[3]': 0.0, 'outputs[4]': 0.0, 'time': 0.0209999997, 'TIMING_model_response_timestamp': 1603372911.5886407}\n",
      "logging to: <_io.TextIOWrapper name='exp_2020-10-22_16-21-22.log' mode='w+' encoding='cp1252'>\n",
      "1\n",
      "2\n"
     ]
    },
    {
     "name": "stdout",
     "output_type": "stream",
     "text": [
      "{'time': 0.0219999999, 'inputs': 0.0, 'TIMING_client_request_timestamp': 1603372911.689274}\n",
      "result: \n",
      "{'inputs': 0.0, 'outputs[1]': 8.99559845112587, 'outputs[2]': 2.2992445483906137, 'outputs[3]': 0.0, 'outputs[4]': 0.0, 'time': 0.0219999999, 'TIMING_model_response_timestamp': 1603372911.6919878}\n",
      "logging to: <_io.TextIOWrapper name='exp_2020-10-22_16-21-22.log' mode='w+' encoding='cp1252'>\n",
      "1\n",
      "2\n",
      "{'time': 0.023, 'inputs': 0.0, 'TIMING_client_request_timestamp': 1603372911.7911878}\n",
      "result: \n",
      "{'inputs': 0.0, 'outputs[1]': 8.980108914736487, 'outputs[2]': 2.399166877161863, 'outputs[3]': 0.0, 'outputs[4]': 0.0, 'time': 0.023, 'TIMING_model_response_timestamp': 1603372911.8021593}\n",
      "logging to: <_io.TextIOWrapper name='exp_2020-10-22_16-21-22.log' mode='w+' encoding='cp1252'>\n",
      "1\n",
      "2\n",
      "{'time': 0.0240000002, 'inputs': 0.0, 'TIMING_client_request_timestamp': 1603372911.9012291}\n",
      "result: \n",
      "{'inputs': 0.0, 'outputs[1]': 8.966265819445937, 'outputs[2]': 2.499084175152807, 'outputs[3]': 0.0, 'outputs[4]': 0.0, 'time': 0.0240000002, 'TIMING_model_response_timestamp': 1603372911.903231}\n",
      "logging to: <_io.TextIOWrapper name='exp_2020-10-22_16-21-22.log' mode='w+' encoding='cp1252'>\n",
      "1\n",
      "2\n",
      "{'time': 0.0250000004, 'inputs': 0.0, 'TIMING_client_request_timestamp': 1603372912.0051212}\n",
      "result: \n",
      "{'inputs': 0.0, 'outputs[1]': 8.95398437832599, 'outputs[2]': 2.598996284579836, 'outputs[3]': 0.0, 'outputs[4]': 0.0, 'time': 0.0250000004, 'TIMING_model_response_timestamp': 1603372912.0078552}\n",
      "logging to: <_io.TextIOWrapper name='exp_2020-10-22_16-21-22.log' mode='w+' encoding='cp1252'>\n",
      "1\n",
      "2\n",
      "{'time': 0.0260000005, 'inputs': 0.0, 'TIMING_client_request_timestamp': 1603372912.1075983}\n",
      "result: \n",
      "{'inputs': 0.0, 'outputs[1]': 8.943178268227136, 'outputs[2]': 2.698903047668028, 'outputs[3]': 0.0, 'outputs[4]': 0.0, 'time': 0.0260000005, 'TIMING_model_response_timestamp': 1603372912.1135535}\n",
      "logging to: <_io.TextIOWrapper name='exp_2020-10-22_16-21-22.log' mode='w+' encoding='cp1252'>\n",
      "1\n",
      "2\n",
      "{'time': 0.0270000007, 'inputs': 0.0, 'TIMING_client_request_timestamp': 1603372912.2125666}\n",
      "result: \n",
      "{'inputs': 0.0, 'outputs[1]': 8.933759715159116, 'outputs[2]': 2.7988043066514625, 'outputs[3]': 0.0, 'outputs[4]': 0.0, 'time': 0.0270000007, 'TIMING_model_response_timestamp': 1603372912.2205439}\n",
      "logging to: <_io.TextIOWrapper name='exp_2020-10-22_16-21-22.log' mode='w+' encoding='cp1252'>\n",
      "1\n",
      "2\n",
      "{'time': 0.0280000009, 'inputs': 0.0, 'TIMING_client_request_timestamp': 1603372912.3405504}\n",
      "result: \n",
      "{'inputs': 0.0, 'outputs[1]': 8.92563958148054, 'outputs[2]': 2.89869990377181, 'outputs[3]': 0.0, 'outputs[4]': 0.0, 'time': 0.0280000009, 'TIMING_model_response_timestamp': 1603372912.3445375}\n",
      "logging to: <_io.TextIOWrapper name='exp_2020-10-22_16-21-22.log' mode='w+' encoding='cp1252'>\n",
      "1\n",
      "2\n",
      "{'time': 0.0289999992, 'inputs': 0.0, 'TIMING_client_request_timestamp': 1603372912.4576943}\n",
      "result: \n",
      "{'inputs': 0.0, 'outputs[1]': 8.918727453601798, 'outputs[2]': 2.998589681280224, 'outputs[3]': 0.0, 'outputs[4]': 0.0, 'time': 0.0289999992, 'TIMING_model_response_timestamp': 1603372912.4626784}\n",
      "logging to: <_io.TextIOWrapper name='exp_2020-10-22_16-21-22.log' mode='w+' encoding='cp1252'>\n",
      "1\n",
      "2\n",
      "{'time': 0.0299999993, 'inputs': 0.0, 'TIMING_client_request_timestamp': 1603372912.573435}\n",
      "result: \n",
      "{'inputs': 0.0, 'outputs[1]': 8.912931729477549, 'outputs[2]': 3.098473481448555, 'outputs[3]': 0.0, 'outputs[4]': 0.0, 'time': 0.0299999993, 'TIMING_model_response_timestamp': 1603372912.5809357}\n",
      "logging to: <_io.TextIOWrapper name='exp_2020-10-22_16-21-22.log' mode='w+' encoding='cp1252'>\n",
      "1\n",
      "2\n",
      "{'time': 0.0309999995, 'inputs': 0.0, 'TIMING_client_request_timestamp': 1603372912.68001}\n",
      "result: \n",
      "{'inputs': 0.0, 'outputs[1]': 8.908159715340055, 'outputs[2]': 3.198351146536, 'outputs[3]': 0.0, 'outputs[4]': 0.0, 'time': 0.0309999995, 'TIMING_model_response_timestamp': 1603372912.682967}\n",
      "logging to: <_io.TextIOWrapper name='exp_2020-10-22_16-21-22.log' mode='w+' encoding='cp1252'>\n",
      "1\n",
      "2\n",
      "{'time': 0.0320000015, 'inputs': 0.0, 'TIMING_client_request_timestamp': 1603372912.782306}\n",
      "result: \n",
      "{'inputs': 0.0, 'outputs[1]': 8.904317711184087, 'outputs[2]': 3.298222518821424, 'outputs[3]': 0.0, 'outputs[4]': 0.0, 'time': 0.0320000015, 'TIMING_model_response_timestamp': 1603372912.7870963}\n",
      "logging to: <_io.TextIOWrapper name='exp_2020-10-22_16-21-22.log' mode='w+' encoding='cp1252'>\n",
      "1\n",
      "2\n",
      "{'time': 0.0329999998, 'inputs': 0.0, 'TIMING_client_request_timestamp': 1603372912.8871255}\n",
      "result: \n",
      "{'inputs': 0.0, 'outputs[1]': 8.901311106707814, 'outputs[2]': 3.3980874405824824, 'outputs[3]': 0.0, 'outputs[4]': 0.0, 'time': 0.0329999998, 'TIMING_model_response_timestamp': 1603372912.898143}\n",
      "logging to: <_io.TextIOWrapper name='exp_2020-10-22_16-21-22.log' mode='w+' encoding='cp1252'>\n",
      "1\n",
      "2\n",
      "{'time': 0.0340000018, 'inputs': 0.0, 'TIMING_client_request_timestamp': 1603372912.99742}\n",
      "result: \n",
      "{'inputs': 0.0, 'outputs[1]': 8.899044469204163, 'outputs[2]': 3.4979457541429437, 'outputs[3]': 0.0, 'outputs[4]': 0.0, 'time': 0.0340000018, 'TIMING_model_response_timestamp': 1603372913.0103986}\n",
      "logging to: <_io.TextIOWrapper name='exp_2020-10-22_16-21-22.log' mode='w+' encoding='cp1252'>\n",
      "1\n",
      "2\n",
      "{'time': 0.0350000001, 'inputs': 0.0, 'TIMING_client_request_timestamp': 1603372913.108161}\n",
      "result: \n",
      "{'inputs': 0.0, 'outputs[1]': 8.89742164769148, 'outputs[2]': 3.597797301788111, 'outputs[3]': 0.0, 'outputs[4]': 0.0, 'time': 0.0350000001, 'TIMING_model_response_timestamp': 1603372913.1209154}\n",
      "logging to: <_io.TextIOWrapper name='exp_2020-10-22_16-21-22.log' mode='w+' encoding='cp1252'>\n",
      "1\n",
      "2\n",
      "{'time': 0.0359999985, 'inputs': 0.0, 'TIMING_client_request_timestamp': 1603372913.21885}\n",
      "result: \n",
      "{'inputs': 0.0, 'outputs[1]': 8.896345857724212, 'outputs[2]': 3.697641925864039, 'outputs[3]': 0.0, 'outputs[4]': 0.0, 'time': 0.0359999985, 'TIMING_model_response_timestamp': 1603372913.2287736}\n",
      "logging to: <_io.TextIOWrapper name='exp_2020-10-22_16-21-22.log' mode='w+' encoding='cp1252'>\n",
      "1\n",
      "2\n",
      "{'time': 0.0370000005, 'inputs': 0.0, 'TIMING_client_request_timestamp': 1603372913.3271275}\n",
      "result: \n",
      "{'inputs': 0.0, 'outputs[1]': 8.89571978442682, 'outputs[2]': 3.797479468702259, 'outputs[3]': 0.0, 'outputs[4]': 0.0, 'time': 0.0370000005, 'TIMING_model_response_timestamp': 1603372913.3389602}\n",
      "logging to: <_io.TextIOWrapper name='exp_2020-10-22_16-21-22.log' mode='w+' encoding='cp1252'>\n",
      "1\n",
      "2\n",
      "{'time': 0.0379999988, 'inputs': 0.0, 'TIMING_client_request_timestamp': 1603372913.437346}\n",
      "result: \n",
      "{'inputs': 0.0, 'outputs[1]': 8.895445677117388, 'outputs[2]': 3.897309772619823, 'outputs[3]': 0.0, 'outputs[4]': 0.0, 'time': 0.0379999988, 'TIMING_model_response_timestamp': 1603372913.4423726}\n",
      "logging to: <_io.TextIOWrapper name='exp_2020-10-22_16-21-22.log' mode='w+' encoding='cp1252'>\n",
      "1\n",
      "2\n",
      "{'time': 0.0390000008, 'inputs': 0.0, 'TIMING_client_request_timestamp': 1603372913.541698}\n",
      "result: \n",
      "{'inputs': 0.0, 'outputs[1]': 8.89542544234524, 'outputs[2]': 3.9971326799980837, 'outputs[3]': 0.0, 'outputs[4]': 0.0, 'time': 0.0390000008, 'TIMING_model_response_timestamp': 1603372913.553675}\n",
      "logging to: <_io.TextIOWrapper name='exp_2020-10-22_16-21-22.log' mode='w+' encoding='cp1252'>\n",
      "1\n",
      "2\n",
      "{'time': 0.0399999991, 'inputs': 0.0, 'TIMING_client_request_timestamp': 1603372913.651978}\n",
      "result: \n",
      "{'inputs': 0.0, 'outputs[1]': 8.895560745283502, 'outputs[2]': 4.096948033175338, 'outputs[3]': 0.0, 'outputs[4]': 0.0, 'time': 0.0399999991, 'TIMING_model_response_timestamp': 1603372913.6548548}\n",
      "logging to: <_io.TextIOWrapper name='exp_2020-10-22_16-21-22.log' mode='w+' encoding='cp1252'>\n",
      "1\n",
      "2\n",
      "{'time': 0.0410000011, 'inputs': 0.0, 'TIMING_client_request_timestamp': 1603372913.7549462}\n",
      "result: \n",
      "{'inputs': 0.0, 'outputs[1]': 8.895753103901125, 'outputs[2]': 4.196755674557715, 'outputs[3]': 0.0, 'outputs[4]': 0.0, 'time': 0.0410000011, 'TIMING_model_response_timestamp': 1603372913.7606723}\n",
      "logging to: <_io.TextIOWrapper name='exp_2020-10-22_16-21-22.log' mode='w+' encoding='cp1252'>\n",
      "1\n",
      "2\n",
      "{'time': 0.0419999994, 'inputs': 0.0, 'TIMING_client_request_timestamp': 1603372913.8610377}\n",
      "result: \n",
      "{'inputs': 0.0, 'outputs[1]': 8.895903987880414, 'outputs[2]': 4.296555446506452, 'outputs[3]': 0.0, 'outputs[4]': 0.0, 'time': 0.0419999994, 'TIMING_model_response_timestamp': 1603372913.8709524}\n",
      "logging to: <_io.TextIOWrapper name='exp_2020-10-22_16-21-22.log' mode='w+' encoding='cp1252'>\n",
      "1\n",
      "2\n",
      "{'time': 0.0430000015, 'inputs': 0.0, 'TIMING_client_request_timestamp': 1603372913.971963}\n",
      "result: \n",
      "{'inputs': 0.0, 'outputs[1]': 8.895914915894604, 'outputs[2]': 4.396347191453447, 'outputs[3]': 0.0, 'outputs[4]': 0.0, 'time': 0.0430000015, 'TIMING_model_response_timestamp': 1603372913.9849374}\n",
      "logging to: <_io.TextIOWrapper name='exp_2020-10-22_16-21-22.log' mode='w+' encoding='cp1252'>\n",
      "1\n",
      "2\n"
     ]
    },
    {
     "name": "stdout",
     "output_type": "stream",
     "text": [
      "{'time': 0.0439999998, 'inputs': 0.0, 'TIMING_client_request_timestamp': 1603372914.0822237}\n",
      "result: \n",
      "{'inputs': 0.0, 'outputs[1]': 8.895687551581833, 'outputs[2]': 4.49613075178305, 'outputs[3]': 0.0, 'outputs[4]': 0.0, 'time': 0.0439999998, 'TIMING_model_response_timestamp': 1603372914.0852172}\n",
      "logging to: <_io.TextIOWrapper name='exp_2020-10-22_16-21-22.log' mode='w+' encoding='cp1252'>\n",
      "1\n",
      "2\n",
      "{'time': 0.0450000018, 'inputs': 0.0, 'TIMING_client_request_timestamp': 1603372914.1851578}\n",
      "result: \n",
      "{'inputs': 0.0, 'outputs[1]': 8.895123803620343, 'outputs[2]': 4.595905969954736, 'outputs[3]': 0.0, 'outputs[4]': 0.0, 'time': 0.0450000018, 'TIMING_model_response_timestamp': 1603372914.195864}\n",
      "logging to: <_io.TextIOWrapper name='exp_2020-10-22_16-21-22.log' mode='w+' encoding='cp1252'>\n",
      "1\n",
      "2\n",
      "{'time': 0.0460000001, 'inputs': 0.0, 'TIMING_client_request_timestamp': 1603372914.295368}\n",
      "result: \n",
      "{'inputs': 0.0, 'outputs[1]': 8.894125918371364, 'outputs[2]': 4.695672688378613, 'outputs[3]': 0.0, 'outputs[4]': 0.0, 'time': 0.0460000001, 'TIMING_model_response_timestamp': 1603372914.3048055}\n",
      "logging to: <_io.TextIOWrapper name='exp_2020-10-22_16-21-22.log' mode='w+' encoding='cp1252'>\n",
      "1\n",
      "2\n",
      "{'time': 0.0469999984, 'inputs': 0.0, 'TIMING_client_request_timestamp': 1603372914.403422}\n",
      "result: \n",
      "{'inputs': 0.0, 'outputs[1]': 8.892596582222872, 'outputs[2]': 4.795430749541106, 'outputs[3]': 0.0, 'outputs[4]': 0.0, 'time': 0.0469999984, 'TIMING_model_response_timestamp': 1603372914.4094393}\n",
      "logging to: <_io.TextIOWrapper name='exp_2020-10-22_16-21-22.log' mode='w+' encoding='cp1252'>\n",
      "1\n",
      "2\n",
      "{'time': 0.0480000004, 'inputs': 0.0, 'TIMING_client_request_timestamp': 1603372914.5100503}\n",
      "result: \n",
      "{'inputs': 0.0, 'outputs[1]': 8.890439013143203, 'outputs[2]': 4.895179995911158, 'outputs[3]': 0.0, 'outputs[4]': 0.0, 'time': 0.0480000004, 'TIMING_model_response_timestamp': 1603372914.5140033}\n",
      "logging to: <_io.TextIOWrapper name='exp_2020-10-22_16-21-22.log' mode='w+' encoding='cp1252'>\n",
      "1\n",
      "2\n",
      "{'time': 0.0489999987, 'inputs': 0.0, 'TIMING_client_request_timestamp': 1603372914.6143522}\n",
      "result: \n",
      "{'inputs': 0.0, 'outputs[1]': 8.887557054916574, 'outputs[2]': 4.994920269938138, 'outputs[3]': 0.0, 'outputs[4]': 0.0, 'time': 0.0489999987, 'TIMING_model_response_timestamp': 1603372914.6183465}\n",
      "logging to: <_io.TextIOWrapper name='exp_2020-10-22_16-21-22.log' mode='w+' encoding='cp1252'>\n",
      "1\n",
      "2\n",
      "{'time': 0.0500000007, 'inputs': 0.0, 'TIMING_client_request_timestamp': 1603372914.7177653}\n",
      "result: \n",
      "{'inputs': 0.0, 'outputs[1]': 8.883855280409843, 'outputs[2]': 5.094651414151982, 'outputs[3]': 0.0, 'outputs[4]': 0.0, 'time': 0.0500000007, 'TIMING_model_response_timestamp': 1603372914.72575}\n",
      "logging to: <_io.TextIOWrapper name='exp_2020-10-22_16-21-22.log' mode='w+' encoding='cp1252'>\n",
      "1\n",
      "2\n",
      "{'time': 0.050999999, 'inputs': 0.0, 'TIMING_client_request_timestamp': 1603372914.8246775}\n",
      "result: \n",
      "{'inputs': 0.0, 'outputs[1]': 8.879239074482296, 'outputs[2]': 5.19437327102948, 'outputs[3]': 0.0, 'outputs[4]': 0.0, 'time': 0.050999999, 'TIMING_model_response_timestamp': 1603372914.8371491}\n",
      "logging to: <_io.TextIOWrapper name='exp_2020-10-22_16-21-22.log' mode='w+' encoding='cp1252'>\n",
      "1\n",
      "2\n",
      "{'time': 0.0520000011, 'inputs': 0.0, 'TIMING_client_request_timestamp': 1603372914.934409}\n",
      "result: \n",
      "{'inputs': 0.0, 'outputs[1]': 8.873614740340559, 'outputs[2]': 5.294085683130818, 'outputs[3]': 0.0, 'outputs[4]': 0.0, 'time': 0.0520000011, 'TIMING_model_response_timestamp': 1603372914.9373646}\n",
      "logging to: <_io.TextIOWrapper name='exp_2020-10-22_16-21-22.log' mode='w+' encoding='cp1252'>\n",
      "1\n",
      "2\n",
      "{'time': 0.0529999994, 'inputs': 0.0, 'TIMING_client_request_timestamp': 1603372915.0382962}\n",
      "result: \n",
      "{'inputs': 0.0, 'outputs[1]': 8.866889577827823, 'outputs[2]': 5.3937884929602316, 'outputs[3]': 0.0, 'outputs[4]': 0.0, 'time': 0.0529999994, 'TIMING_model_response_timestamp': 1603372915.0440261}\n",
      "logging to: <_io.TextIOWrapper name='exp_2020-10-22_16-21-22.log' mode='w+' encoding='cp1252'>\n",
      "1\n",
      "2\n",
      "{'time': 0.0540000014, 'inputs': 0.0, 'TIMING_client_request_timestamp': 1603372915.1449318}\n",
      "result: \n",
      "{'inputs': 0.0, 'outputs[1]': 8.858971990994958, 'outputs[2]': 5.493481543110101, 'outputs[3]': 0.0, 'outputs[4]': 0.0, 'time': 0.0540000014, 'TIMING_model_response_timestamp': 1603372915.156904}\n",
      "logging to: <_io.TextIOWrapper name='exp_2020-10-22_16-21-22.log' mode='w+' encoding='cp1252'>\n",
      "1\n",
      "2\n",
      "{'time': 0.0549999997, 'inputs': 0.0, 'TIMING_client_request_timestamp': 1603372915.2552354}\n",
      "result: \n",
      "{'inputs': 0.0, 'outputs[1]': 8.849771561363942, 'outputs[2]': 5.593164676115043, 'outputs[3]': 0.0, 'outputs[4]': 0.0, 'time': 0.0549999997, 'TIMING_model_response_timestamp': 1603372915.2669976}\n",
      "logging to: <_io.TextIOWrapper name='exp_2020-10-22_16-21-22.log' mode='w+' encoding='cp1252'>\n",
      "1\n",
      "2\n",
      "{'time': 0.0560000017, 'inputs': 0.0, 'TIMING_client_request_timestamp': 1603372915.36588}\n",
      "result: \n",
      "{'inputs': 0.0, 'outputs[1]': 8.839199155726977, 'outputs[2]': 5.692837734598722, 'outputs[3]': 0.0, 'outputs[4]': 0.0, 'time': 0.0560000017, 'TIMING_model_response_timestamp': 1603372915.3688712}\n",
      "logging to: <_io.TextIOWrapper name='exp_2020-10-22_16-21-22.log' mode='w+' encoding='cp1252'>\n",
      "1\n",
      "2\n",
      "{'time': 0.057, 'inputs': 0.0, 'TIMING_client_request_timestamp': 1603372915.4690335}\n",
      "result: \n",
      "{'inputs': 0.0, 'outputs[1]': 8.827166994631021, 'outputs[2]': 5.792500561126159, 'outputs[3]': 0.0, 'outputs[4]': 0.0, 'time': 0.057, 'TIMING_model_response_timestamp': 1603372915.4738958}\n",
      "logging to: <_io.TextIOWrapper name='exp_2020-10-22_16-21-22.log' mode='w+' encoding='cp1252'>\n",
      "1\n",
      "2\n",
      "{'time': 0.0579999983, 'inputs': 0.0, 'TIMING_client_request_timestamp': 1603372915.5732906}\n",
      "result: \n",
      "{'inputs': 0.0, 'outputs[1]': 8.813588760103325, 'outputs[2]': 5.892152998354249, 'outputs[3]': 0.0, 'outputs[4]': 0.0, 'time': 0.0579999983, 'TIMING_model_response_timestamp': 1603372915.580269}\n",
      "logging to: <_io.TextIOWrapper name='exp_2020-10-22_16-21-22.log' mode='w+' encoding='cp1252'>\n",
      "1\n",
      "2\n",
      "{'time': 0.0590000004, 'inputs': 0.0, 'TIMING_client_request_timestamp': 1603372915.6796494}\n",
      "result: \n",
      "{'inputs': 0.0, 'outputs[1]': 8.798379664950742, 'outputs[2]': 5.991794888918728, 'outputs[3]': 0.0, 'outputs[4]': 0.0, 'time': 0.0590000004, 'TIMING_model_response_timestamp': 1603372915.6916041}\n",
      "logging to: <_io.TextIOWrapper name='exp_2020-10-22_16-21-22.log' mode='w+' encoding='cp1252'>\n",
      "1\n",
      "2\n",
      "{'time': 0.0599999987, 'inputs': 0.0, 'TIMING_client_request_timestamp': 1603372915.7925723}\n",
      "result: \n",
      "{'inputs': 0.0, 'outputs[1]': 8.781456535159583, 'outputs[2]': 6.091426075431008, 'outputs[3]': 0.0, 'outputs[4]': 0.0, 'time': 0.0599999987, 'TIMING_model_response_timestamp': 1603372915.795565}\n",
      "logging to: <_io.TextIOWrapper name='exp_2020-10-22_16-21-22.log' mode='w+' encoding='cp1252'>\n",
      "1\n",
      "2\n",
      "{'time': 0.0610000007, 'inputs': 0.0, 'TIMING_client_request_timestamp': 1603372915.8949406}\n",
      "result: \n",
      "{'inputs': 0.0, 'outputs[1]': 8.762737911827882, 'outputs[2]': 6.191046400600761, 'outputs[3]': 0.0, 'outputs[4]': 0.0, 'time': 0.0610000007, 'TIMING_model_response_timestamp': 1603372915.8969305}\n",
      "logging to: <_io.TextIOWrapper name='exp_2020-10-22_16-21-22.log' mode='w+' encoding='cp1252'>\n",
      "1\n",
      "2\n",
      "{'time': 0.061999999, 'inputs': 0.0, 'TIMING_client_request_timestamp': 1603372915.997341}\n",
      "result: \n",
      "{'inputs': 0.0, 'outputs[1]': 8.742144105244991, 'outputs[2]': 6.290655707073367, 'outputs[3]': 0.0, 'outputs[4]': 0.0, 'time': 0.061999999, 'TIMING_model_response_timestamp': 1603372915.9992821}\n",
      "logging to: <_io.TextIOWrapper name='exp_2020-10-22_16-21-22.log' mode='w+' encoding='cp1252'>\n",
      "1\n",
      "2\n",
      "{'time': 0.063000001, 'inputs': 0.0, 'TIMING_client_request_timestamp': 1603372916.1003296}\n",
      "result: \n",
      "{'inputs': 0.0, 'outputs[1]': 8.719597301005313, 'outputs[2]': 6.39025383759315, 'outputs[3]': 0.0, 'outputs[4]': 0.0, 'time': 0.063000001, 'TIMING_model_response_timestamp': 1603372916.1062818}\n",
      "logging to: <_io.TextIOWrapper name='exp_2020-10-22_16-21-22.log' mode='w+' encoding='cp1252'>\n",
      "1\n",
      "2\n",
      "{'time': 0.064000003, 'inputs': 0.0, 'TIMING_client_request_timestamp': 1603372916.2059681}\n",
      "result: \n",
      "{'inputs': 0.0, 'outputs[1]': 8.69502160864456, 'outputs[2]': 6.489840634839377, 'outputs[3]': 0.0, 'outputs[4]': 0.0, 'time': 0.064000003, 'TIMING_model_response_timestamp': 1603372916.2119505}\n",
      "logging to: <_io.TextIOWrapper name='exp_2020-10-22_16-21-22.log' mode='w+' encoding='cp1252'>\n",
      "1\n",
      "2\n"
     ]
    },
    {
     "name": "stdout",
     "output_type": "stream",
     "text": [
      "{'time': 0.0649999976, 'inputs': 0.0, 'TIMING_client_request_timestamp': 1603372916.311962}\n",
      "result: \n",
      "{'inputs': 0.0, 'outputs[1]': 8.668343158224099, 'outputs[2]': 6.589415941550273, 'outputs[3]': 0.0, 'outputs[4]': 0.0, 'time': 0.0649999976, 'TIMING_model_response_timestamp': 1603372916.4821498}\n",
      "logging to: <_io.TextIOWrapper name='exp_2020-10-22_16-21-22.log' mode='w+' encoding='cp1252'>\n",
      "1\n",
      "2\n",
      "{'time': 0.0659999996, 'inputs': 0.0, 'TIMING_client_request_timestamp': 1603372916.5842593}\n",
      "result: \n",
      "{'inputs': 0.0, 'outputs[1]': 8.639490182655502, 'outputs[2]': 6.688979600568984, 'outputs[3]': 0.0, 'outputs[4]': 0.0, 'time': 0.0659999996, 'TIMING_model_response_timestamp': 1603372916.5970256}\n",
      "logging to: <_io.TextIOWrapper name='exp_2020-10-22_16-21-22.log' mode='w+' encoding='cp1252'>\n",
      "1\n",
      "2\n",
      "{'time': 0.0670000017, 'inputs': 0.0, 'TIMING_client_request_timestamp': 1603372916.695598}\n",
      "result: \n",
      "{'inputs': 0.0, 'outputs[1]': 8.608393040148743, 'outputs[2]': 6.7885314545846605, 'outputs[3]': 0.0, 'outputs[4]': 0.0, 'time': 0.0670000017, 'TIMING_model_response_timestamp': 1603372916.6975946}\n",
      "logging to: <_io.TextIOWrapper name='exp_2020-10-22_16-21-22.log' mode='w+' encoding='cp1252'>\n",
      "1\n",
      "2\n",
      "{'time': 0.0680000037, 'inputs': 0.0, 'TIMING_client_request_timestamp': 1603372916.7985454}\n",
      "result: \n",
      "{'inputs': 0.0, 'outputs[1]': 8.57498433087014, 'outputs[2]': 6.888071346389505, 'outputs[3]': 0.0, 'outputs[4]': 0.0, 'time': 0.0680000037, 'TIMING_model_response_timestamp': 1603372916.807514}\n",
      "logging to: <_io.TextIOWrapper name='exp_2020-10-22_16-21-22.log' mode='w+' encoding='cp1252'>\n",
      "1\n",
      "2\n",
      "{'time': 0.0689999983, 'inputs': 0.0, 'TIMING_client_request_timestamp': 1603372916.9064565}\n",
      "result: \n",
      "{'inputs': 0.0, 'outputs[1]': 8.539198948481152, 'outputs[2]': 6.987599118796999, 'outputs[3]': 0.0, 'outputs[4]': 0.0, 'time': 0.0689999983, 'TIMING_model_response_timestamp': 1603372916.9204152}\n",
      "logging to: <_io.TextIOWrapper name='exp_2020-10-22_16-21-22.log' mode='w+' encoding='cp1252'>\n",
      "1\n",
      "2\n",
      "{'time': 0.0700000003, 'inputs': 0.0, 'TIMING_client_request_timestamp': 1603372917.017957}\n",
      "result: \n",
      "{'inputs': 0.0, 'outputs[1]': 8.50097416213343, 'outputs[2]': 7.087114614730006, 'outputs[3]': 0.0, 'outputs[4]': 0.0, 'time': 0.0700000003, 'TIMING_model_response_timestamp': 1603372917.0240195}\n",
      "logging to: <_io.TextIOWrapper name='exp_2020-10-22_16-21-22.log' mode='w+' encoding='cp1252'>\n",
      "1\n",
      "2\n",
      "{'time': 0.0710000023, 'inputs': 0.0, 'TIMING_client_request_timestamp': 1603372917.1235607}\n",
      "result: \n",
      "{'inputs': 0.0, 'outputs[1]': 8.460249624381122, 'outputs[2]': 7.18661767694908, 'outputs[3]': 0.0, 'outputs[4]': 0.0, 'time': 0.0710000023, 'TIMING_model_response_timestamp': 1603372917.126554}\n",
      "logging to: <_io.TextIOWrapper name='exp_2020-10-22_16-21-22.log' mode='w+' encoding='cp1252'>\n",
      "1\n",
      "2\n",
      "{'time': 0.0719999969, 'inputs': 0.0, 'TIMING_client_request_timestamp': 1603372917.2266128}\n",
      "result: \n",
      "{'inputs': 0.0, 'outputs[1]': 8.416967484814533, 'outputs[2]': 7.286108148324676, 'outputs[3]': 0.0, 'outputs[4]': 0.0, 'time': 0.0719999969, 'TIMING_model_response_timestamp': 1603372917.2376351}\n",
      "logging to: <_io.TextIOWrapper name='exp_2020-10-22_16-21-22.log' mode='w+' encoding='cp1252'>\n",
      "1\n",
      "2\n",
      "{'time': 0.0729999989, 'inputs': 0.0, 'TIMING_client_request_timestamp': 1603372917.336906}\n",
      "result: \n",
      "{'inputs': 0.0, 'outputs[1]': 8.37107244901792, 'outputs[2]': 7.385585871842046, 'outputs[3]': 0.0, 'outputs[4]': 0.0, 'time': 0.0729999989, 'TIMING_model_response_timestamp': 1603372917.340392}\n",
      "logging to: <_io.TextIOWrapper name='exp_2020-10-22_16-21-22.log' mode='w+' encoding='cp1252'>\n",
      "1\n",
      "2\n",
      "{'time': 0.074000001, 'inputs': 0.0, 'TIMING_client_request_timestamp': 1603372917.4412258}\n",
      "result: \n",
      "{'inputs': 0.0, 'outputs[1]': 8.322511775091607, 'outputs[2]': 7.485050690317906, 'outputs[3]': 0.0, 'outputs[4]': 0.0, 'time': 0.074000001, 'TIMING_model_response_timestamp': 1603372917.4469488}\n",
      "logging to: <_io.TextIOWrapper name='exp_2020-10-22_16-21-22.log' mode='w+' encoding='cp1252'>\n",
      "1\n",
      "2\n",
      "{'time': 0.075000003, 'inputs': 0.0, 'TIMING_client_request_timestamp': 1603372917.5472865}\n",
      "result: \n",
      "{'inputs': 0.0, 'outputs[1]': 8.2712353833849, 'outputs[2]': 7.584502446681787, 'outputs[3]': 0.0, 'outputs[4]': 0.0, 'time': 0.075000003, 'TIMING_model_response_timestamp': 1603372917.5602462}\n",
      "logging to: <_io.TextIOWrapper name='exp_2020-10-22_16-21-22.log' mode='w+' encoding='cp1252'>\n",
      "1\n",
      "2\n",
      "{'time': 0.0759999976, 'inputs': 0.0, 'TIMING_client_request_timestamp': 1603372917.6584213}\n",
      "result: \n",
      "{'inputs': 0.0, 'outputs[1]': 8.21719588775664, 'outputs[2]': 7.683940983886463, 'outputs[3]': 0.0, 'outputs[4]': 0.0, 'time': 0.0759999976, 'TIMING_model_response_timestamp': 1603372917.669137}\n",
      "logging to: <_io.TextIOWrapper name='exp_2020-10-22_16-21-22.log' mode='w+' encoding='cp1252'>\n",
      "1\n",
      "2\n",
      "{'time': 0.0769999996, 'inputs': 0.0, 'TIMING_client_request_timestamp': 1603372917.7687428}\n",
      "result: \n",
      "{'inputs': 0.0, 'outputs[1]': 8.160348662618, 'outputs[2]': 7.783366145003845, 'outputs[3]': 0.0, 'outputs[4]': 0.0, 'time': 0.0769999996, 'TIMING_model_response_timestamp': 1603372918.1190574}\n",
      "logging to: <_io.TextIOWrapper name='exp_2020-10-22_16-21-22.log' mode='w+' encoding='cp1252'>\n",
      "1\n",
      "2\n",
      "{'time': 0.0780000016, 'inputs': 0.0, 'TIMING_client_request_timestamp': 1603372918.2228348}\n",
      "result: \n",
      "{'inputs': 0.0, 'outputs[1]': 8.100651824909605, 'outputs[2]': 7.882777772929003, 'outputs[3]': 0.0, 'outputs[4]': 0.0, 'time': 0.0780000016, 'TIMING_model_response_timestamp': 1603372918.2325687}\n",
      "logging to: <_io.TextIOWrapper name='exp_2020-10-22_16-21-22.log' mode='w+' encoding='cp1252'>\n",
      "1\n",
      "2\n"
     ]
    },
    {
     "name": "stderr",
     "output_type": "stream",
     "text": [
      "[2020-10-22 16:21:58,368] :: INFO - Finished processing state connected exit callbacks.\n",
      "[2020-10-22 16:21:58,369] :: INFO - Finished processing state disconnected enter callbacks.\n",
      "[2020-10-22 16:21:58,370] :: INFO - Listener 'default': 1 connections acquired\n"
     ]
    },
    {
     "name": "stdout",
     "output_type": "stream",
     "text": [
      "{'time': 0.0790000036, 'inputs': 0.0, 'TIMING_client_request_timestamp': 1603372918.3338134}\n",
      "result: \n",
      "{'inputs': 0.0, 'outputs[1]': 8.03806633775673, 'outputs[2]': 7.9821757106767794, 'outputs[3]': 0.0, 'outputs[4]': 0.0, 'time': 0.0790000036, 'TIMING_model_response_timestamp': 1603372918.3357046}\n",
      "logging to: <_io.TextIOWrapper name='exp_2020-10-22_16-21-22.log' mode='w+' encoding='cp1252'>\n",
      "1\n",
      "2\n"
     ]
    },
    {
     "name": "stderr",
     "output_type": "stream",
     "text": [
      "[2020-10-22 16:22:02,159] :: INFO - Finished processing state started exit callbacks.\n",
      "[2020-10-22 16:22:02,160] :: INFO - Finished processing state stopping enter callbacks.\n",
      "[2020-10-22 16:22:02,161] :: INFO - Broker closed\n",
      "[2020-10-22 16:22:02,162] :: INFO - Finished processing state stopping exit callbacks.\n",
      "[2020-10-22 16:22:02,163] :: INFO - Finished processing state stopped enter callbacks.\n"
     ]
    }
   ],
   "source": [
    "ex.run()"
   ]
  },
  {
   "cell_type": "markdown",
   "metadata": {},
   "source": [
    "## Results\n",
    "A crucial point of interest in the timeline of a ModelConductor Experiment is the instant when the ModelResponse object is returned, concluding a single iteration of the model loop depicted in Figure 17. At this point, the contents of ModelResponse of the time step are written to an external file as comma separated values, ordered in the following manner:\n",
    "timestamp ,input\\_keys ,target\\_keys ,control\\_keys\n",
    "\n",
    "Let's examine the results of the experiment"
   ]
  },
  {
   "cell_type": "code",
   "execution_count": 15,
   "metadata": {},
   "outputs": [
    {
     "name": "stdout",
     "output_type": "stream",
     "text": [
      "exp_2020-10-22_16-21-22.log\n"
     ]
    },
    {
     "data": {
      "text/html": [
       "<div>\n",
       "<style scoped>\n",
       "    .dataframe tbody tr th:only-of-type {\n",
       "        vertical-align: middle;\n",
       "    }\n",
       "\n",
       "    .dataframe tbody tr th {\n",
       "        vertical-align: top;\n",
       "    }\n",
       "\n",
       "    .dataframe thead th {\n",
       "        text-align: right;\n",
       "    }\n",
       "</style>\n",
       "<table border=\"1\" class=\"dataframe\">\n",
       "  <thead>\n",
       "    <tr style=\"text-align: right;\">\n",
       "      <th></th>\n",
       "      <th>timestamp</th>\n",
       "      <th>inputs</th>\n",
       "      <th>outputs[1]</th>\n",
       "      <th>outputs[2]</th>\n",
       "      <th>outputs[3]</th>\n",
       "      <th>outputs[4]</th>\n",
       "      <th>time</th>\n",
       "    </tr>\n",
       "  </thead>\n",
       "  <tbody>\n",
       "    <tr>\n",
       "      <td>0</td>\n",
       "      <td>2020-10-22 16:21:49.316089</td>\n",
       "      <td>0.00000</td>\n",
       "      <td>9.90000</td>\n",
       "      <td>0.10000</td>\n",
       "      <td>0.00000</td>\n",
       "      <td>0.00000</td>\n",
       "      <td>0.00000</td>\n",
       "    </tr>\n",
       "    <tr>\n",
       "      <td>1</td>\n",
       "      <td>2020-10-22 16:21:49.419414</td>\n",
       "      <td>0.00000</td>\n",
       "      <td>9.83091</td>\n",
       "      <td>0.19999</td>\n",
       "      <td>0.00000</td>\n",
       "      <td>0.00000</td>\n",
       "      <td>0.00100</td>\n",
       "    </tr>\n",
       "    <tr>\n",
       "      <td>2</td>\n",
       "      <td>2020-10-22 16:21:49.526642</td>\n",
       "      <td>0.00000</td>\n",
       "      <td>9.76479</td>\n",
       "      <td>0.29998</td>\n",
       "      <td>0.00000</td>\n",
       "      <td>0.00000</td>\n",
       "      <td>0.00200</td>\n",
       "    </tr>\n",
       "    <tr>\n",
       "      <td>3</td>\n",
       "      <td>2020-10-22 16:21:49.643017</td>\n",
       "      <td>0.00000</td>\n",
       "      <td>9.70161</td>\n",
       "      <td>0.39997</td>\n",
       "      <td>0.00000</td>\n",
       "      <td>0.00000</td>\n",
       "      <td>0.00300</td>\n",
       "    </tr>\n",
       "    <tr>\n",
       "      <td>4</td>\n",
       "      <td>2020-10-22 16:21:49.750036</td>\n",
       "      <td>0.00000</td>\n",
       "      <td>9.64134</td>\n",
       "      <td>0.49996</td>\n",
       "      <td>0.00000</td>\n",
       "      <td>0.00000</td>\n",
       "      <td>0.00400</td>\n",
       "    </tr>\n",
       "  </tbody>\n",
       "</table>\n",
       "</div>"
      ],
      "text/plain": [
       "                    timestamp  inputs  outputs[1]  outputs[2]  outputs[3]  \\\n",
       "0  2020-10-22 16:21:49.316089 0.00000     9.90000     0.10000     0.00000   \n",
       "1  2020-10-22 16:21:49.419414 0.00000     9.83091     0.19999     0.00000   \n",
       "2  2020-10-22 16:21:49.526642 0.00000     9.76479     0.29998     0.00000   \n",
       "3  2020-10-22 16:21:49.643017 0.00000     9.70161     0.39997     0.00000   \n",
       "4  2020-10-22 16:21:49.750036 0.00000     9.64134     0.49996     0.00000   \n",
       "\n",
       "   outputs[4]    time  \n",
       "0     0.00000 0.00000  \n",
       "1     0.00000 0.00100  \n",
       "2     0.00000 0.00200  \n",
       "3     0.00000 0.00300  \n",
       "4     0.00000 0.00400  "
      ]
     },
     "execution_count": 15,
     "metadata": {},
     "output_type": "execute_result"
    }
   ],
   "source": [
    "print(ex.log_path)\n",
    "pd.options.display.float_format = '{:.5f}'.format\n",
    "\n",
    "results = pd.read_csv(ex.log_path)\n",
    "results.head()"
   ]
  },
  {
   "cell_type": "code",
   "execution_count": 16,
   "metadata": {},
   "outputs": [
    {
     "data": {
      "text/plain": [
       "80"
      ]
     },
     "execution_count": 16,
     "metadata": {},
     "output_type": "execute_result"
    }
   ],
   "source": [
    "len(results)"
   ]
  },
  {
   "cell_type": "markdown",
   "metadata": {},
   "source": [
    "Plot the simulation outputs"
   ]
  },
  {
   "cell_type": "code",
   "execution_count": 17,
   "metadata": {},
   "outputs": [
    {
     "data": {
      "image/png": "[encoded data removed]",
      "text/plain": [
       "<Figure size 432x288 with 1 Axes>"
      ]
     },
     "metadata": {
      "needs_background": "light"
     },
     "output_type": "display_data"
    }
   ],
   "source": [
    "plt.plot(results[\"time\"], results[\"outputs[1]\"], 'r',\n",
    "         results[\"time\"], results[\"outputs[2]\"], 'b',\n",
    "         results[\"time\"], results[\"outputs[3]\"],  'g',\n",
    "         results[\"time\"], results[\"outputs[4]\"], 'y')\n",
    "plt.show()"
   ]
  },
  {
   "cell_type": "markdown",
   "metadata": {},
   "source": [
    "Plot the inputs"
   ]
  },
  {
   "cell_type": "code",
   "execution_count": 18,
   "metadata": {},
   "outputs": [
    {
     "data": {
      "text/plain": [
       "[<matplotlib.lines.Line2D at 0x1232fdf5888>]"
      ]
     },
     "execution_count": 18,
     "metadata": {},
     "output_type": "execute_result"
    },
    {
     "data": {
      "image/png": "[encoded data removed]",
      "text/plain": [
       "<Figure size 432x288 with 1 Axes>"
      ]
     },
     "metadata": {
      "needs_background": "light"
     },
     "output_type": "display_data"
    }
   ],
   "source": [
    "plt.plot(results[\"time\"], results[\"inputs\"])"
   ]
  },
  {
   "cell_type": "markdown",
   "metadata": {},
   "source": [
    "A log entry is written each time a ModelResponse object is received from the FMUModelHandler instance. Having a priori knowledge about how much the simulated time advances between two consecutive ModelResponses (in this case, approximately 0.001 seconds) allows to define the following:\n",
    "\n",
    "t = simulated time elapsed since beginning of the experiment\n",
    "\n",
    "tau = wall-clock time elapsed since beginning of the experiment\n",
    "\n",
    "t/tau = real-time performance coefficient\n",
    "\n",
    "Let's plot the t/tau metric for the current demo (slight preprocessing involved)"
   ]
  },
  {
   "cell_type": "code",
   "execution_count": 19,
   "metadata": {},
   "outputs": [],
   "source": [
    "results['timestamp'] = pd.to_datetime(results['timestamp'])"
   ]
  },
  {
   "cell_type": "code",
   "execution_count": 20,
   "metadata": {},
   "outputs": [
    {
     "name": "stderr",
     "output_type": "stream",
     "text": [
      "c:\\users\\sajad20h\\appdata\\local\\programs\\python\\python37\\lib\\site-packages\\pandas\\util\\_decorators.py:208: FutureWarning: Passing datetime64-dtype data to TimedeltaIndex is deprecated, will raise a TypeError in a future version\n",
      "  return func(*args, **kwargs)\n"
     ]
    }
   ],
   "source": [
    "results['elapsed_wallclock'] = pd.to_timedelta(results['timestamp']).dt.total_seconds() - \\\n",
    "pd.to_timedelta(results['timestamp']).dt.total_seconds().iloc[0]"
   ]
  },
  {
   "cell_type": "code",
   "execution_count": 21,
   "metadata": {},
   "outputs": [
    {
     "data": {
      "text/html": [
       "<div>\n",
       "<style scoped>\n",
       "    .dataframe tbody tr th:only-of-type {\n",
       "        vertical-align: middle;\n",
       "    }\n",
       "\n",
       "    .dataframe tbody tr th {\n",
       "        vertical-align: top;\n",
       "    }\n",
       "\n",
       "    .dataframe thead th {\n",
       "        text-align: right;\n",
       "    }\n",
       "</style>\n",
       "<table border=\"1\" class=\"dataframe\">\n",
       "  <thead>\n",
       "    <tr style=\"text-align: right;\">\n",
       "      <th></th>\n",
       "      <th>timestamp</th>\n",
       "      <th>inputs</th>\n",
       "      <th>outputs[1]</th>\n",
       "      <th>outputs[2]</th>\n",
       "      <th>outputs[3]</th>\n",
       "      <th>outputs[4]</th>\n",
       "      <th>time</th>\n",
       "      <th>elapsed_wallclock</th>\n",
       "    </tr>\n",
       "  </thead>\n",
       "  <tbody>\n",
       "    <tr>\n",
       "      <td>0</td>\n",
       "      <td>2020-10-22 16:21:49.316089</td>\n",
       "      <td>0.00000</td>\n",
       "      <td>9.90000</td>\n",
       "      <td>0.10000</td>\n",
       "      <td>0.00000</td>\n",
       "      <td>0.00000</td>\n",
       "      <td>0.00000</td>\n",
       "      <td>0.00000</td>\n",
       "    </tr>\n",
       "    <tr>\n",
       "      <td>1</td>\n",
       "      <td>2020-10-22 16:21:49.419414</td>\n",
       "      <td>0.00000</td>\n",
       "      <td>9.83091</td>\n",
       "      <td>0.19999</td>\n",
       "      <td>0.00000</td>\n",
       "      <td>0.00000</td>\n",
       "      <td>0.00100</td>\n",
       "      <td>0.10332</td>\n",
       "    </tr>\n",
       "    <tr>\n",
       "      <td>2</td>\n",
       "      <td>2020-10-22 16:21:49.526642</td>\n",
       "      <td>0.00000</td>\n",
       "      <td>9.76479</td>\n",
       "      <td>0.29998</td>\n",
       "      <td>0.00000</td>\n",
       "      <td>0.00000</td>\n",
       "      <td>0.00200</td>\n",
       "      <td>0.21055</td>\n",
       "    </tr>\n",
       "    <tr>\n",
       "      <td>3</td>\n",
       "      <td>2020-10-22 16:21:49.643017</td>\n",
       "      <td>0.00000</td>\n",
       "      <td>9.70161</td>\n",
       "      <td>0.39997</td>\n",
       "      <td>0.00000</td>\n",
       "      <td>0.00000</td>\n",
       "      <td>0.00300</td>\n",
       "      <td>0.32693</td>\n",
       "    </tr>\n",
       "    <tr>\n",
       "      <td>4</td>\n",
       "      <td>2020-10-22 16:21:49.750036</td>\n",
       "      <td>0.00000</td>\n",
       "      <td>9.64134</td>\n",
       "      <td>0.49996</td>\n",
       "      <td>0.00000</td>\n",
       "      <td>0.00000</td>\n",
       "      <td>0.00400</td>\n",
       "      <td>0.43395</td>\n",
       "    </tr>\n",
       "  </tbody>\n",
       "</table>\n",
       "</div>"
      ],
      "text/plain": [
       "                   timestamp  inputs  outputs[1]  outputs[2]  outputs[3]  \\\n",
       "0 2020-10-22 16:21:49.316089 0.00000     9.90000     0.10000     0.00000   \n",
       "1 2020-10-22 16:21:49.419414 0.00000     9.83091     0.19999     0.00000   \n",
       "2 2020-10-22 16:21:49.526642 0.00000     9.76479     0.29998     0.00000   \n",
       "3 2020-10-22 16:21:49.643017 0.00000     9.70161     0.39997     0.00000   \n",
       "4 2020-10-22 16:21:49.750036 0.00000     9.64134     0.49996     0.00000   \n",
       "\n",
       "   outputs[4]    time  elapsed_wallclock  \n",
       "0     0.00000 0.00000            0.00000  \n",
       "1     0.00000 0.00100            0.10332  \n",
       "2     0.00000 0.00200            0.21055  \n",
       "3     0.00000 0.00300            0.32693  \n",
       "4     0.00000 0.00400            0.43395  "
      ]
     },
     "execution_count": 21,
     "metadata": {},
     "output_type": "execute_result"
    }
   ],
   "source": [
    "results.head()"
   ]
  },
  {
   "cell_type": "code",
   "execution_count": 22,
   "metadata": {},
   "outputs": [],
   "source": [
    "t_per_tau = results[\"time\"].divide(results[\"elapsed_wallclock\"])"
   ]
  },
  {
   "cell_type": "code",
   "execution_count": 23,
   "metadata": {},
   "outputs": [
    {
     "data": {
      "image/png": "[encoded data removed]",
      "text/plain": [
       "<Figure size 432x288 with 1 Axes>"
      ]
     },
     "metadata": {
      "needs_background": "light"
     },
     "output_type": "display_data"
    }
   ],
   "source": [
    "plt.plot(results[\"time\"], t_per_tau)\n",
    "plt.show()"
   ]
  },
  {
   "cell_type": "markdown",
   "metadata": {},
   "source": [
    "## Discussion"
   ]
  },
  {
   "cell_type": "markdown",
   "metadata": {},
   "source": [
    "Obviously the performance is very poor with the database operations as the bottleneck. Things could be improved substantially by introducing another means of accessing the input data, e.g., a TCP socket or similar.\n",
    "\n",
    "See the original publication in [1] for further discussion"
   ]
  }
 ],
 "metadata": {
  "kernelspec": {
   "display_name": "Python 3",
   "language": "python",
   "name": "python3"
  },
  "language_info": {
   "codemirror_mode": {
    "name": "ipython",
    "version": 3
   },
   "file_extension": ".py",
   "mimetype": "text/x-python",
   "name": "python",
   "nbconvert_exporter": "python",
   "pygments_lexer": "ipython3",
   "version": "3.7.9"
  }
 },
 "nbformat": 4,
 "nbformat_minor": 2
}
